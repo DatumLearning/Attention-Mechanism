{
  "nbformat": 4,
  "nbformat_minor": 0,
  "metadata": {
    "colab": {
      "provenance": [],
      "authorship_tag": "ABX9TyPhMPFkP2lQjxUeNsVGqSNz",
      "include_colab_link": true
    },
    "kernelspec": {
      "name": "python3",
      "display_name": "Python 3"
    },
    "language_info": {
      "name": "python"
    }
  },
  "cells": [
    {
      "cell_type": "markdown",
      "metadata": {
        "id": "view-in-github",
        "colab_type": "text"
      },
      "source": [
        "<a href=\"https://colab.research.google.com/github/DatumLearning/Attention-Mechanism/blob/main/multiHead_attention.ipynb\" target=\"_parent\"><img src=\"https://colab.research.google.com/assets/colab-badge.svg\" alt=\"Open In Colab\"/></a>"
      ]
    },
    {
      "cell_type": "code",
      "source": [
        "import torch\n",
        "import torch.nn as nn\n",
        "import torch.nn.functional as F"
      ],
      "metadata": {
        "id": "OShcjczjIEzM"
      },
      "execution_count": null,
      "outputs": []
    },
    {
      "cell_type": "code",
      "source": [
        "batch_size = 16\n",
        "num_heads = 8\n",
        "embed_dim = 512\n",
        "seqLen = 10"
      ],
      "metadata": {
        "id": "93fNEuN2JP3N"
      },
      "execution_count": null,
      "outputs": []
    },
    {
      "cell_type": "code",
      "source": [
        "x = torch.randn(batch_size , seqLen , embed_dim)\n",
        "x.shape"
      ],
      "metadata": {
        "colab": {
          "base_uri": "https://localhost:8080/"
        },
        "id": "PRNK56LhJYtL",
        "outputId": "840aca63-797a-4377-d7b5-098093254c4c"
      },
      "execution_count": null,
      "outputs": [
        {
          "output_type": "execute_result",
          "data": {
            "text/plain": [
              "torch.Size([16, 10, 512])"
            ]
          },
          "metadata": {},
          "execution_count": 3
        }
      ]
    },
    {
      "cell_type": "code",
      "source": [
        "query = nn.Linear(embed_dim , embed_dim)\n",
        "key = nn.Linear(embed_dim , embed_dim)\n",
        "value = nn.Linear(embed_dim , embed_dim)"
      ],
      "metadata": {
        "id": "7w7qicBOJfa9"
      },
      "execution_count": null,
      "outputs": []
    },
    {
      "cell_type": "code",
      "source": [
        "Q = query(x)\n",
        "K = key(x)\n",
        "V = value(x)"
      ],
      "metadata": {
        "id": "zfTCWsEvJ04O"
      },
      "execution_count": null,
      "outputs": []
    },
    {
      "cell_type": "code",
      "source": [
        "Q.shape , K.shape , V.shape"
      ],
      "metadata": {
        "colab": {
          "base_uri": "https://localhost:8080/"
        },
        "id": "kU05BPQ8KJbd",
        "outputId": "695d8ab4-5221-446d-f1da-b4c8dd2ea628"
      },
      "execution_count": null,
      "outputs": [
        {
          "output_type": "execute_result",
          "data": {
            "text/plain": [
              "(torch.Size([16, 10, 512]),\n",
              " torch.Size([16, 10, 512]),\n",
              " torch.Size([16, 10, 512]))"
            ]
          },
          "metadata": {},
          "execution_count": 6
        }
      ]
    },
    {
      "cell_type": "code",
      "source": [
        "dk = embed_dim // num_heads\n",
        "dk"
      ],
      "metadata": {
        "colab": {
          "base_uri": "https://localhost:8080/"
        },
        "id": "FoJGggE1KMVc",
        "outputId": "c7e7fad9-c2bf-44d5-86a2-1d03e165a1d3"
      },
      "execution_count": null,
      "outputs": [
        {
          "output_type": "execute_result",
          "data": {
            "text/plain": [
              "64"
            ]
          },
          "metadata": {},
          "execution_count": 10
        }
      ]
    },
    {
      "cell_type": "code",
      "source": [
        "Qh = Q.view(batch_size , seqLen , num_heads , dk)\n",
        "Kh = K.view(batch_size , seqLen , num_heads , dk)\n",
        "Vh = V.view(batch_size , seqLen , num_heads , dk)"
      ],
      "metadata": {
        "id": "p1qT9DlXKqA1"
      },
      "execution_count": null,
      "outputs": []
    },
    {
      "cell_type": "code",
      "source": [
        "Qh.shape , Kh.shape , Vh.shape"
      ],
      "metadata": {
        "colab": {
          "base_uri": "https://localhost:8080/"
        },
        "id": "KxM9dHQwLwpf",
        "outputId": "6410d20c-d716-41a3-fc13-0dca1fad6b18"
      },
      "execution_count": null,
      "outputs": [
        {
          "output_type": "execute_result",
          "data": {
            "text/plain": [
              "(torch.Size([16, 10, 8, 64]),\n",
              " torch.Size([16, 10, 8, 64]),\n",
              " torch.Size([16, 10, 8, 64]))"
            ]
          },
          "metadata": {},
          "execution_count": 12
        }
      ]
    },
    {
      "cell_type": "code",
      "source": [
        "Qr = Qh.transpose(1 , 2)\n",
        "Kr = Kh.transpose(1 , 2)\n",
        "Vr = Vh.transpose(1 , 2)"
      ],
      "metadata": {
        "id": "i8kvG2JrLzY_"
      },
      "execution_count": null,
      "outputs": []
    },
    {
      "cell_type": "code",
      "source": [
        "Qr.shape , Kr.shape , Vr.shape"
      ],
      "metadata": {
        "colab": {
          "base_uri": "https://localhost:8080/"
        },
        "id": "B4PkLF3mMedx",
        "outputId": "b0e90981-b644-4d8f-d6bb-6321da04cd1d"
      },
      "execution_count": null,
      "outputs": [
        {
          "output_type": "execute_result",
          "data": {
            "text/plain": [
              "(torch.Size([16, 8, 10, 64]),\n",
              " torch.Size([16, 8, 10, 64]),\n",
              " torch.Size([16, 8, 10, 64]))"
            ]
          },
          "metadata": {},
          "execution_count": 16
        }
      ]
    },
    {
      "cell_type": "code",
      "source": [
        "#Q * K_t\n",
        "scores = torch.matmul(Qr , Kr.transpose(-2 , -1)) / (dk ** 0.5)\n",
        "scores.shape"
      ],
      "metadata": {
        "colab": {
          "base_uri": "https://localhost:8080/"
        },
        "id": "d5rNRaxIMhfp",
        "outputId": "d19f2539-d6bd-4c91-cfb6-d2c823e61f33"
      },
      "execution_count": null,
      "outputs": [
        {
          "output_type": "execute_result",
          "data": {
            "text/plain": [
              "torch.Size([16, 8, 10, 10])"
            ]
          },
          "metadata": {},
          "execution_count": 17
        }
      ]
    },
    {
      "cell_type": "code",
      "source": [
        "attention_weights = F.softmax(scores , dim = -1)\n",
        "attention_weights.shape"
      ],
      "metadata": {
        "colab": {
          "base_uri": "https://localhost:8080/"
        },
        "id": "ShEHmNu9NDdE",
        "outputId": "5607521b-e0a8-4fd4-b590-9ccabe3e130e"
      },
      "execution_count": null,
      "outputs": [
        {
          "output_type": "execute_result",
          "data": {
            "text/plain": [
              "torch.Size([16, 8, 10, 10])"
            ]
          },
          "metadata": {},
          "execution_count": 18
        }
      ]
    },
    {
      "cell_type": "code",
      "source": [
        "output = torch.matmul(attention_weights , Vr)\n",
        "output.shape"
      ],
      "metadata": {
        "colab": {
          "base_uri": "https://localhost:8080/"
        },
        "id": "xpgjOYYQNNmy",
        "outputId": "4a4d78a6-f4af-453b-cbc9-907611f5b0f7"
      },
      "execution_count": null,
      "outputs": [
        {
          "output_type": "execute_result",
          "data": {
            "text/plain": [
              "torch.Size([16, 8, 10, 64])"
            ]
          },
          "metadata": {},
          "execution_count": 20
        }
      ]
    },
    {
      "cell_type": "code",
      "source": [
        "final_output = output.transpose(1 , 2).contiguous().view(batch_size , seqLen , num_heads * dk)\n",
        "final_output.shape"
      ],
      "metadata": {
        "colab": {
          "base_uri": "https://localhost:8080/"
        },
        "id": "OY4_-I4fNVkN",
        "outputId": "511e024a-9d54-46ac-bd54-df24e7a1d288"
      },
      "execution_count": null,
      "outputs": [
        {
          "output_type": "execute_result",
          "data": {
            "text/plain": [
              "torch.Size([16, 10, 512])"
            ]
          },
          "metadata": {},
          "execution_count": 22
        }
      ]
    },
    {
      "cell_type": "code",
      "source": [],
      "metadata": {
        "id": "437n1C8wNlqF"
      },
      "execution_count": null,
      "outputs": []
    }
  ]
}