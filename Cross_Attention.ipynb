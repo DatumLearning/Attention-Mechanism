{
  "nbformat": 4,
  "nbformat_minor": 0,
  "metadata": {
    "colab": {
      "provenance": [],
      "authorship_tag": "ABX9TyP/jiaQUW/nqTqGG1DY/KQR",
      "include_colab_link": true
    },
    "kernelspec": {
      "name": "python3",
      "display_name": "Python 3"
    },
    "language_info": {
      "name": "python"
    }
  },
  "cells": [
    {
      "cell_type": "markdown",
      "metadata": {
        "id": "view-in-github",
        "colab_type": "text"
      },
      "source": [
        "<a href=\"https://colab.research.google.com/github/DatumLearning/Attention-Mechanism/blob/main/Cross_Attention.ipynb\" target=\"_parent\"><img src=\"https://colab.research.google.com/assets/colab-badge.svg\" alt=\"Open In Colab\"/></a>"
      ]
    },
    {
      "cell_type": "code",
      "execution_count": null,
      "metadata": {
        "id": "bWoieTTEJn05"
      },
      "outputs": [],
      "source": [
        "import torch\n",
        "import torch.nn as nn\n",
        "import torch.nn.functional as F"
      ]
    },
    {
      "cell_type": "code",
      "source": [
        "num_heads = 8\n",
        "embedDim = 512\n",
        "seq_len_q = 10\n",
        "seq_len_kv = 15\n",
        "batch_size = 16"
      ],
      "metadata": {
        "id": "G7WKLvUseLNx"
      },
      "execution_count": null,
      "outputs": []
    },
    {
      "cell_type": "code",
      "source": [
        "head_dim = embedDim // num_heads\n",
        "head_dim"
      ],
      "metadata": {
        "colab": {
          "base_uri": "https://localhost:8080/"
        },
        "id": "5iFLXzNqe4vm",
        "outputId": "a9b4e1d5-8467-4257-cec9-ecc34a94288a"
      },
      "execution_count": null,
      "outputs": [
        {
          "output_type": "execute_result",
          "data": {
            "text/plain": [
              "64"
            ]
          },
          "metadata": {},
          "execution_count": 3
        }
      ]
    },
    {
      "cell_type": "code",
      "source": [
        "query = torch.randn(batch_size , seq_len_q , embedDim)\n",
        "key = torch.randn(batch_size , seq_len_kv , embedDim)\n",
        "value = torch.randn(batch_size , seq_len_kv , embedDim)"
      ],
      "metadata": {
        "id": "rgag8ku5fAZm"
      },
      "execution_count": null,
      "outputs": []
    },
    {
      "cell_type": "code",
      "source": [
        "query.shape , key.shape , value.shape"
      ],
      "metadata": {
        "colab": {
          "base_uri": "https://localhost:8080/"
        },
        "id": "Et97hZ5OfVsJ",
        "outputId": "88dbeb96-1823-463a-aa96-863c42066823"
      },
      "execution_count": null,
      "outputs": [
        {
          "output_type": "execute_result",
          "data": {
            "text/plain": [
              "(torch.Size([16, 10, 512]),\n",
              " torch.Size([16, 15, 512]),\n",
              " torch.Size([16, 15, 512]))"
            ]
          },
          "metadata": {},
          "execution_count": 6
        }
      ]
    },
    {
      "cell_type": "code",
      "source": [
        "q_linear = nn.Linear(embedDim , embedDim)\n",
        "k_linear = nn.Linear(embedDim , embedDim)\n",
        "v_linear = nn.Linear(embedDim , embedDim)"
      ],
      "metadata": {
        "id": "ZvkwhRvcfZwP"
      },
      "execution_count": null,
      "outputs": []
    },
    {
      "cell_type": "code",
      "source": [
        "Q = q_linear(query)\n",
        "K = k_linear(key)\n",
        "V = v_linear(value)"
      ],
      "metadata": {
        "id": "AIILfExofldv"
      },
      "execution_count": null,
      "outputs": []
    },
    {
      "cell_type": "code",
      "source": [
        "Q.shape , K.shape , V.shape"
      ],
      "metadata": {
        "colab": {
          "base_uri": "https://localhost:8080/"
        },
        "id": "DcF58NMFfqy6",
        "outputId": "80bb832f-48e6-4f4d-a3fc-6c26e4934598"
      },
      "execution_count": null,
      "outputs": [
        {
          "output_type": "execute_result",
          "data": {
            "text/plain": [
              "(torch.Size([16, 10, 512]),\n",
              " torch.Size([16, 15, 512]),\n",
              " torch.Size([16, 15, 512]))"
            ]
          },
          "metadata": {},
          "execution_count": 11
        }
      ]
    },
    {
      "cell_type": "code",
      "source": [
        "Qv = Q.view(batch_size , -1 , num_heads , head_dim)\n",
        "Kv = K.view(batch_size , -1 , num_heads , head_dim)\n",
        "Vv = V.view(batch_size , -1 , num_heads , head_dim)"
      ],
      "metadata": {
        "id": "5ROzYBoRftgF"
      },
      "execution_count": null,
      "outputs": []
    },
    {
      "cell_type": "code",
      "source": [
        "Qv.shape , Kv.shape , Vv.shape"
      ],
      "metadata": {
        "colab": {
          "base_uri": "https://localhost:8080/"
        },
        "id": "56S-fhUggPB3",
        "outputId": "d2a1f068-2714-4fd3-d60f-fb3bbc399952"
      },
      "execution_count": null,
      "outputs": [
        {
          "output_type": "execute_result",
          "data": {
            "text/plain": [
              "(torch.Size([16, 10, 8, 64]),\n",
              " torch.Size([16, 15, 8, 64]),\n",
              " torch.Size([16, 15, 8, 64]))"
            ]
          },
          "metadata": {},
          "execution_count": 13
        }
      ]
    },
    {
      "cell_type": "code",
      "source": [
        "Qt = Qv.transpose(1 , 2)\n",
        "Kt = Kv.transpose(1 , 2)\n",
        "Vt = Vv.transpose(1 , 2)"
      ],
      "metadata": {
        "id": "F-fOQJ74gTvy"
      },
      "execution_count": null,
      "outputs": []
    },
    {
      "cell_type": "code",
      "source": [
        "Qt.shape , Kt.shape , Vt.shape"
      ],
      "metadata": {
        "colab": {
          "base_uri": "https://localhost:8080/"
        },
        "id": "T0wYUaeOgdBr",
        "outputId": "6e6dae6b-af4e-4a33-decf-42c2ae37dfca"
      },
      "execution_count": null,
      "outputs": [
        {
          "output_type": "execute_result",
          "data": {
            "text/plain": [
              "(torch.Size([16, 8, 10, 64]),\n",
              " torch.Size([16, 8, 15, 64]),\n",
              " torch.Size([16, 8, 15, 64]))"
            ]
          },
          "metadata": {},
          "execution_count": 15
        }
      ]
    },
    {
      "cell_type": "code",
      "source": [
        "scores = torch.matmul(Qt , Kt.transpose(-2 , -1)) / (head_dim ** 0.5)\n",
        "scores.shape"
      ],
      "metadata": {
        "colab": {
          "base_uri": "https://localhost:8080/"
        },
        "id": "Oj_UbMJzgf1z",
        "outputId": "15b5b15e-8607-42dd-e6bd-dfb1551fce82"
      },
      "execution_count": null,
      "outputs": [
        {
          "output_type": "execute_result",
          "data": {
            "text/plain": [
              "torch.Size([16, 8, 10, 15])"
            ]
          },
          "metadata": {},
          "execution_count": 16
        }
      ]
    },
    {
      "cell_type": "code",
      "source": [
        "attention_weights = F.softmax(scores , dim = -1)\n",
        "attention_weights.shape"
      ],
      "metadata": {
        "colab": {
          "base_uri": "https://localhost:8080/"
        },
        "id": "8O6Qc1M3gv6P",
        "outputId": "4a77a9cf-8413-4d41-a21b-c35ed9c8439f"
      },
      "execution_count": null,
      "outputs": [
        {
          "output_type": "execute_result",
          "data": {
            "text/plain": [
              "torch.Size([16, 8, 10, 15])"
            ]
          },
          "metadata": {},
          "execution_count": 17
        }
      ]
    },
    {
      "cell_type": "code",
      "source": [
        "output = torch.matmul(attention_weights , Vt)\n",
        "output.shape"
      ],
      "metadata": {
        "colab": {
          "base_uri": "https://localhost:8080/"
        },
        "id": "bV7h0ewmg3CG",
        "outputId": "3c77dce3-8a9b-4e5a-eb97-4b838ddcc06b"
      },
      "execution_count": null,
      "outputs": [
        {
          "output_type": "execute_result",
          "data": {
            "text/plain": [
              "torch.Size([16, 8, 10, 64])"
            ]
          },
          "metadata": {},
          "execution_count": 18
        }
      ]
    },
    {
      "cell_type": "code",
      "source": [
        "output = output.transpose(1 , 2).contiguous().view(batch_size , -1 , embedDim)\n",
        "output.shape"
      ],
      "metadata": {
        "colab": {
          "base_uri": "https://localhost:8080/"
        },
        "id": "X2Julsvdg9u_",
        "outputId": "a677b12a-4967-4939-eb57-8af3a9ace1bd"
      },
      "execution_count": null,
      "outputs": [
        {
          "output_type": "execute_result",
          "data": {
            "text/plain": [
              "torch.Size([16, 10, 512])"
            ]
          },
          "metadata": {},
          "execution_count": 19
        }
      ]
    },
    {
      "cell_type": "code",
      "source": [],
      "metadata": {
        "id": "ywbqSwmFhP6Q"
      },
      "execution_count": null,
      "outputs": []
    }
  ]
}